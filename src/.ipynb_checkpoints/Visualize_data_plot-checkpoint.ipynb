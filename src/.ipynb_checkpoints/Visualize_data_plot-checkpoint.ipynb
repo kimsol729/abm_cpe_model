{
 "cells": [
  {
   "cell_type": "code",
   "execution_count": 38,
   "id": "1dee75a5",
   "metadata": {},
   "outputs": [],
   "source": [
    "import matplotlib.pyplot as plt\n",
    "import numpy as np\n",
    "import os\n",
    "import pandas as pd\n",
    "import seaborn as sns"
   ]
  },
  {
   "cell_type": "code",
   "execution_count": 39,
   "id": "530e7c24",
   "metadata": {},
   "outputs": [
    {
     "name": "stdout",
     "output_type": "stream",
     "text": [
      "현재위치: /Users/solkim/repos/abm_cpe_model/src\n",
      "데이터위치: /Users/solkim/repos/abm_cpe_model/src/../result/calibration\n"
     ]
    },
    {
     "data": {
      "text/plain": [
       "'/Users/solkim/repos/abm_cpe_model/result/calibration'"
      ]
     },
     "execution_count": 39,
     "metadata": {},
     "output_type": "execute_result"
    }
   ],
   "source": [
    "current_folder = globals()['_dh'][0] # 어머나 이게 뭐야 (주피터 노트북 용)\n",
    "\n",
    "# current_folder = os.path.dirname(os.path.abspath(__file__)) \n",
    "\n",
    "print('현재위치:',current_folder)\n",
    "\n",
    "# Calculating path to the input data\n",
    "data_location = os.path.join(current_folder,'../result/calibration')\n",
    "print('데이터위치:',data_location)\n",
    "\n",
    "\n",
    "os.chdir(data_location)\n",
    "os.getcwd()"
   ]
  },
  {
   "cell_type": "code",
   "execution_count": 40,
   "id": "f3a404dc",
   "metadata": {},
   "outputs": [
    {
     "data": {
      "text/html": [
       "<div>\n",
       "<style scoped>\n",
       "    .dataframe tbody tr th:only-of-type {\n",
       "        vertical-align: middle;\n",
       "    }\n",
       "\n",
       "    .dataframe tbody tr th {\n",
       "        vertical-align: top;\n",
       "    }\n",
       "\n",
       "    .dataframe thead th {\n",
       "        text-align: right;\n",
       "    }\n",
       "</style>\n",
       "<table border=\"1\" class=\"dataframe\">\n",
       "  <thead>\n",
       "    <tr style=\"text-align: right;\">\n",
       "      <th></th>\n",
       "      <th>Unnamed: 0</th>\n",
       "      <th>prob_transmission</th>\n",
       "      <th>Run</th>\n",
       "      <th>Number_of_Patients_sick</th>\n",
       "      <th>prob_patient_sick</th>\n",
       "      <th>prob_new_patient</th>\n",
       "      <th>isolation_factor</th>\n",
       "      <th>cleaningDay</th>\n",
       "      <th>isolate_sick</th>\n",
       "      <th>isolation_time</th>\n",
       "      <th>icu_hcw_wash_rate</th>\n",
       "      <th>outside_hcw_wash_rate</th>\n",
       "      <th>height</th>\n",
       "      <th>width</th>\n",
       "    </tr>\n",
       "  </thead>\n",
       "  <tbody>\n",
       "    <tr>\n",
       "      <th>0</th>\n",
       "      <td>0</td>\n",
       "      <td>0.00001</td>\n",
       "      <td>0</td>\n",
       "      <td>1</td>\n",
       "      <td>0.01</td>\n",
       "      <td>0.003</td>\n",
       "      <td>0.75</td>\n",
       "      <td>360</td>\n",
       "      <td>True</td>\n",
       "      <td>14</td>\n",
       "      <td>0.9</td>\n",
       "      <td>0.9</td>\n",
       "      <td>11</td>\n",
       "      <td>32</td>\n",
       "    </tr>\n",
       "    <tr>\n",
       "      <th>1</th>\n",
       "      <td>1</td>\n",
       "      <td>0.00001</td>\n",
       "      <td>1</td>\n",
       "      <td>0</td>\n",
       "      <td>0.01</td>\n",
       "      <td>0.003</td>\n",
       "      <td>0.75</td>\n",
       "      <td>360</td>\n",
       "      <td>True</td>\n",
       "      <td>14</td>\n",
       "      <td>0.9</td>\n",
       "      <td>0.9</td>\n",
       "      <td>11</td>\n",
       "      <td>32</td>\n",
       "    </tr>\n",
       "    <tr>\n",
       "      <th>2</th>\n",
       "      <td>2</td>\n",
       "      <td>0.00001</td>\n",
       "      <td>2</td>\n",
       "      <td>3</td>\n",
       "      <td>0.01</td>\n",
       "      <td>0.003</td>\n",
       "      <td>0.75</td>\n",
       "      <td>360</td>\n",
       "      <td>True</td>\n",
       "      <td>14</td>\n",
       "      <td>0.9</td>\n",
       "      <td>0.9</td>\n",
       "      <td>11</td>\n",
       "      <td>32</td>\n",
       "    </tr>\n",
       "    <tr>\n",
       "      <th>3</th>\n",
       "      <td>3</td>\n",
       "      <td>0.00001</td>\n",
       "      <td>3</td>\n",
       "      <td>2</td>\n",
       "      <td>0.01</td>\n",
       "      <td>0.003</td>\n",
       "      <td>0.75</td>\n",
       "      <td>360</td>\n",
       "      <td>True</td>\n",
       "      <td>14</td>\n",
       "      <td>0.9</td>\n",
       "      <td>0.9</td>\n",
       "      <td>11</td>\n",
       "      <td>32</td>\n",
       "    </tr>\n",
       "    <tr>\n",
       "      <th>4</th>\n",
       "      <td>4</td>\n",
       "      <td>0.00001</td>\n",
       "      <td>4</td>\n",
       "      <td>2</td>\n",
       "      <td>0.01</td>\n",
       "      <td>0.003</td>\n",
       "      <td>0.75</td>\n",
       "      <td>360</td>\n",
       "      <td>True</td>\n",
       "      <td>14</td>\n",
       "      <td>0.9</td>\n",
       "      <td>0.9</td>\n",
       "      <td>11</td>\n",
       "      <td>32</td>\n",
       "    </tr>\n",
       "  </tbody>\n",
       "</table>\n",
       "</div>"
      ],
      "text/plain": [
       "   Unnamed: 0  prob_transmission  Run  Number_of_Patients_sick  \\\n",
       "0           0            0.00001    0                        1   \n",
       "1           1            0.00001    1                        0   \n",
       "2           2            0.00001    2                        3   \n",
       "3           3            0.00001    3                        2   \n",
       "4           4            0.00001    4                        2   \n",
       "\n",
       "   prob_patient_sick  prob_new_patient  isolation_factor  cleaningDay  \\\n",
       "0               0.01             0.003              0.75          360   \n",
       "1               0.01             0.003              0.75          360   \n",
       "2               0.01             0.003              0.75          360   \n",
       "3               0.01             0.003              0.75          360   \n",
       "4               0.01             0.003              0.75          360   \n",
       "\n",
       "   isolate_sick  isolation_time  icu_hcw_wash_rate  outside_hcw_wash_rate  \\\n",
       "0          True              14                0.9                    0.9   \n",
       "1          True              14                0.9                    0.9   \n",
       "2          True              14                0.9                    0.9   \n",
       "3          True              14                0.9                    0.9   \n",
       "4          True              14                0.9                    0.9   \n",
       "\n",
       "   height  width  \n",
       "0      11     32  \n",
       "1      11     32  \n",
       "2      11     32  \n",
       "3      11     32  \n",
       "4      11     32  "
      ]
     },
     "execution_count": 40,
     "metadata": {},
     "output_type": "execute_result"
    }
   ],
   "source": [
    "run_data = pd.read_csv('[2022.8.5]calibateBeta3.csv')\n",
    "run_data.head()"
   ]
  },
  {
   "cell_type": "code",
   "execution_count": 41,
   "id": "d22728b2",
   "metadata": {},
   "outputs": [
    {
     "name": "stdout",
     "output_type": "stream",
     "text": [
      "prob_transmission\n",
      "0.00001    2.42\n",
      "0.00002    2.62\n",
      "0.00003    2.18\n",
      "0.00004    2.38\n",
      "0.00005    2.36\n",
      "0.00006    2.40\n",
      "0.00007    2.24\n",
      "0.00008    2.54\n",
      "0.00009    2.68\n",
      "Name: Number_of_Patients_sick, dtype: float64\n",
      "\n",
      "\n",
      "\n",
      "0    2.42\n",
      "1    2.62\n",
      "2    2.18\n",
      "3    2.38\n",
      "4    2.36\n",
      "5    2.40\n",
      "6    2.24\n",
      "7    2.54\n",
      "8    2.68\n",
      "Name: Number_of_Patients_sick, dtype: float64\n"
     ]
    }
   ],
   "source": [
    "data_mean = run_data.groupby([\"prob_transmission\"])['Number_of_Patients_sick'].mean()\n",
    "print(data_mean)\n",
    "print('\\n\\n')\n",
    "data_mean = data_mean.reset_index()\n",
    "print(data_mean['Number_of_Patients_sick'])\n",
    "mean_patients_sick = data_mean['Number_of_Patients_sick'] #The avg number for the iterations\n"
   ]
  },
  {
   "cell_type": "code",
   "execution_count": 42,
   "id": "816a2fe1",
   "metadata": {},
   "outputs": [
    {
     "data": {
      "text/html": [
       "<div>\n",
       "<style scoped>\n",
       "    .dataframe tbody tr th:only-of-type {\n",
       "        vertical-align: middle;\n",
       "    }\n",
       "\n",
       "    .dataframe tbody tr th {\n",
       "        vertical-align: top;\n",
       "    }\n",
       "\n",
       "    .dataframe thead th {\n",
       "        text-align: right;\n",
       "    }\n",
       "</style>\n",
       "<table border=\"1\" class=\"dataframe\">\n",
       "  <thead>\n",
       "    <tr style=\"text-align: right;\">\n",
       "      <th></th>\n",
       "      <th>prob_transmission</th>\n",
       "      <th>Number_of_Patients_sick</th>\n",
       "    </tr>\n",
       "  </thead>\n",
       "  <tbody>\n",
       "    <tr>\n",
       "      <th>0</th>\n",
       "      <td>0.00001</td>\n",
       "      <td>2.42</td>\n",
       "    </tr>\n",
       "    <tr>\n",
       "      <th>1</th>\n",
       "      <td>0.00002</td>\n",
       "      <td>2.62</td>\n",
       "    </tr>\n",
       "    <tr>\n",
       "      <th>2</th>\n",
       "      <td>0.00003</td>\n",
       "      <td>2.18</td>\n",
       "    </tr>\n",
       "    <tr>\n",
       "      <th>3</th>\n",
       "      <td>0.00004</td>\n",
       "      <td>2.38</td>\n",
       "    </tr>\n",
       "    <tr>\n",
       "      <th>4</th>\n",
       "      <td>0.00005</td>\n",
       "      <td>2.36</td>\n",
       "    </tr>\n",
       "    <tr>\n",
       "      <th>5</th>\n",
       "      <td>0.00006</td>\n",
       "      <td>2.40</td>\n",
       "    </tr>\n",
       "    <tr>\n",
       "      <th>6</th>\n",
       "      <td>0.00007</td>\n",
       "      <td>2.24</td>\n",
       "    </tr>\n",
       "    <tr>\n",
       "      <th>7</th>\n",
       "      <td>0.00008</td>\n",
       "      <td>2.54</td>\n",
       "    </tr>\n",
       "    <tr>\n",
       "      <th>8</th>\n",
       "      <td>0.00009</td>\n",
       "      <td>2.68</td>\n",
       "    </tr>\n",
       "  </tbody>\n",
       "</table>\n",
       "</div>"
      ],
      "text/plain": [
       "   prob_transmission  Number_of_Patients_sick\n",
       "0            0.00001                     2.42\n",
       "1            0.00002                     2.62\n",
       "2            0.00003                     2.18\n",
       "3            0.00004                     2.38\n",
       "4            0.00005                     2.36\n",
       "5            0.00006                     2.40\n",
       "6            0.00007                     2.24\n",
       "7            0.00008                     2.54\n",
       "8            0.00009                     2.68"
      ]
     },
     "execution_count": 42,
     "metadata": {},
     "output_type": "execute_result"
    }
   ],
   "source": [
    "data_mean.head(10)"
   ]
  },
  {
   "cell_type": "code",
   "execution_count": 69,
   "id": "a6b91033",
   "metadata": {},
   "outputs": [
    {
     "name": "stdout",
     "output_type": "stream",
     "text": [
      "<class 'pandas.core.frame.DataFrame'> (450, 1)\n",
      "<class 'numpy.ndarray'> (450, 1)\n",
      "[1 0 3 2 2 3 2 4 5 4 2 2 1 4 0 2 1 0 2 1 1 3 4 3 0 2 2 2 1 6 2 4 0 4 1 2 2\n",
      " 4 3 5 6 2 3 3 0 5 2 3 4 1]\n"
     ]
    }
   ],
   "source": [
    "data_a = pd.DataFrame(run_data, columns=['Number_of_Patients_sick'])\n",
    "print(type(data_a),data_a.shape)\n",
    "\n",
    "data_a = data_a.values\n",
    "print(type(data_a),data_a.shape)\n",
    "data_a = data_a.reshape(9,50)\n",
    "print(data_a[0])"
   ]
  },
  {
   "cell_type": "code",
   "execution_count": 90,
   "id": "cfa908cc",
   "metadata": {},
   "outputs": [
    {
     "data": {
      "image/png": "[encoded data removed]",
      "text/plain": [
       "<Figure size 900x300 with 1 Axes>"
      ]
     },
     "metadata": {},
     "output_type": "display_data"
    }
   ],
   "source": [
    "# 1. 기본 스타일 설정\n",
    "plt.style.use('default')\n",
    "plt.rcParams['figure.figsize'] = (9, 3)\n",
    "plt.rcParams['font.size'] = 10\n",
    "\n",
    "\n",
    "\n",
    "# 3. 그래프 그리기\n",
    "fig, ax = plt.subplots()\n",
    "\n",
    "plt.axhline(2.5, 0, 1, color='red', linestyle='--', linewidth=1)\n",
    "\n",
    "violin = ax.boxplot([data_a[0], data_a[1], data_a[2], data_a[3], data_a[4], data_a[5], data_a[6], data_a[7], data_a[8]], showmeans=True)\n",
    "ax.set_ylim(0, 10.0)\n",
    "ax.set_xticks(np.arange(1, 10))\n",
    "ax.set_xticklabels(['1', '2', '3', '4', '5', '6', '7', '8', '9'])\n",
    "ax.set_xlabel('10^(-5)')\n",
    "ax.set_ylabel('Number_of_Patients_sick')\n",
    "\n",
    "\n",
    "plt.show()"
   ]
  },
  {
   "cell_type": "code",
   "execution_count": null,
   "id": "28a2db10",
   "metadata": {},
   "outputs": [],
   "source": []
  }
 ],
 "metadata": {
  "kernelspec": {
   "display_name": "Python 3 (ipykernel)",
   "language": "python",
   "name": "python3"
  },
  "language_info": {
   "codemirror_mode": {
    "name": "ipython",
    "version": 3
   },
   "file_extension": ".py",
   "mimetype": "text/x-python",
   "name": "python",
   "nbconvert_exporter": "python",
   "pygments_lexer": "ipython3",
   "version": "3.9.7"
  }
 },
 "nbformat": 4,
 "nbformat_minor": 5
}
